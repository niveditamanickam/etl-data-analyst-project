{
 "cells": [
  {
   "cell_type": "markdown",
   "id": "9a8c9f0b",
   "metadata": {},
   "source": [
    "Extract Data"
   ]
  },
  {
   "cell_type": "markdown",
   "id": "7796b82f",
   "metadata": {},
   "source": [
    "Read the CSV file into a Pandas dataframe."
   ]
  },
  {
   "cell_type": "code",
   "execution_count": 1,
   "id": "9a585bc0",
   "metadata": {},
   "outputs": [
    {
     "name": "stdout",
     "output_type": "stream",
     "text": [
      "            Name  Age  Gender Blood Type Medical Condition Date of Admission  \\\n",
      "0  Bobby JacksOn   30    Male         B-            Cancer        2024-01-31   \n",
      "1   LesLie TErRy   62    Male         A+           Obesity        2019-08-20   \n",
      "2    DaNnY sMitH   76  Female         A-           Obesity        2022-09-22   \n",
      "3   andrEw waTtS   28  Female         O+          Diabetes        2020-11-18   \n",
      "4  adrIENNE bEll   43  Female        AB+            Cancer        2022-09-19   \n",
      "\n",
      "             Doctor                    Hospital Insurance Provider  \\\n",
      "0     Matthew Smith             Sons and Miller         Blue Cross   \n",
      "1   Samantha Davies                     Kim Inc           Medicare   \n",
      "2  Tiffany Mitchell                    Cook PLC              Aetna   \n",
      "3       Kevin Wells  Hernandez Rogers and Vang,           Medicare   \n",
      "4    Kathleen Hanna                 White-White              Aetna   \n",
      "\n",
      "   Billing Amount  Room Number Admission Type Discharge Date   Medication  \\\n",
      "0    18856.281306          328         Urgent     2024-02-02  Paracetamol   \n",
      "1    33643.327287          265      Emergency     2019-08-26    Ibuprofen   \n",
      "2    27955.096079          205      Emergency     2022-10-07      Aspirin   \n",
      "3    37909.782410          450       Elective     2020-12-18    Ibuprofen   \n",
      "4    14238.317814          458         Urgent     2022-10-09   Penicillin   \n",
      "\n",
      "   Test Results  \n",
      "0        Normal  \n",
      "1  Inconclusive  \n",
      "2        Normal  \n",
      "3      Abnormal  \n",
      "4      Abnormal  \n"
     ]
    }
   ],
   "source": [
    "import pandas as pd\n",
    "\n",
    "# Load dataset\n",
    "df = pd.read_csv(\"healthcare_dataset.csv\")\n",
    "\n",
    "# Display first 5 rows\n",
    "print(df.head())\n"
   ]
  },
  {
   "cell_type": "markdown",
   "id": "dbf46d81",
   "metadata": {},
   "source": [
    "Transform Data"
   ]
  },
  {
   "cell_type": "markdown",
   "id": "bc012d1e",
   "metadata": {},
   "source": [
    "1. Remove Personally Identifiable Information"
   ]
  },
  {
   "cell_type": "code",
   "execution_count": 8,
   "id": "03907246",
   "metadata": {},
   "outputs": [],
   "source": [
    "df = pd.read_csv(\"healthcare_dataset.csv\")\n"
   ]
  },
  {
   "cell_type": "code",
   "execution_count": 9,
   "id": "3adbdb09",
   "metadata": {},
   "outputs": [
    {
     "name": "stdout",
     "output_type": "stream",
     "text": [
      "Index(['Name', 'Age', 'Gender', 'Blood Type', 'Medical Condition',\n",
      "       'Date of Admission', 'Doctor', 'Hospital', 'Insurance Provider',\n",
      "       'Billing Amount', 'Room Number', 'Admission Type', 'Discharge Date',\n",
      "       'Medication', 'Test Results'],\n",
      "      dtype='object')\n"
     ]
    }
   ],
   "source": [
    "print(df.columns)  # Print all column names\n"
   ]
  },
  {
   "cell_type": "code",
   "execution_count": 10,
   "id": "b718b934",
   "metadata": {},
   "outputs": [],
   "source": [
    "df.drop(columns=[\"Name\", \"Doctor\"], inplace=True)"
   ]
  },
  {
   "cell_type": "markdown",
   "id": "0d63a1e9",
   "metadata": {},
   "source": [
    "2. Standardize Date Formats"
   ]
  },
  {
   "cell_type": "code",
   "execution_count": 11,
   "id": "6b331f8a",
   "metadata": {},
   "outputs": [],
   "source": [
    "df[\"Date of Admission\"] = pd.to_datetime(df[\"Date of Admission\"]).dt.strftime(\"%Y-%m-%d\")\n",
    "df[\"Discharge Date\"] = pd.to_datetime(df[\"Discharge Date\"]).dt.strftime(\"%Y-%m-%d\")"
   ]
  },
  {
   "cell_type": "markdown",
   "id": "62d02be1",
   "metadata": {},
   "source": [
    "3. Handle Missing Values"
   ]
  },
  {
   "cell_type": "code",
   "execution_count": 13,
   "id": "3de2a443",
   "metadata": {},
   "outputs": [],
   "source": [
    "df[\"Blood Type\"] = df[\"Blood Type\"].fillna(\"Unknown\")\n",
    "df[\"Medical Condition\"] = df[\"Medical Condition\"].fillna(\"Unknown\")\n",
    "df[\"Billing Amount\"] = df[\"Billing Amount\"].fillna(df[\"Billing Amount\"].mean())\n",
    "df[\"Test Results\"] = df[\"Test Results\"].fillna(\"Inconclusive\")"
   ]
  },
  {
   "cell_type": "markdown",
   "id": "17f43275",
   "metadata": {},
   "source": [
    "4. Standardize Categorical Values"
   ]
  },
  {
   "cell_type": "code",
   "execution_count": 14,
   "id": "6827dd04",
   "metadata": {},
   "outputs": [],
   "source": [
    "df[\"Gender\"] = df[\"Gender\"].replace({\"Male\": \"M\", \"Female\": \"F\"})\n",
    "df[\"Admission Type\"] = df[\"Admission Type\"].str.title()  # Ensure proper casing"
   ]
  },
  {
   "cell_type": "markdown",
   "id": "c7ced2fa",
   "metadata": {},
   "source": [
    "5. Convert Currency Format"
   ]
  },
  {
   "cell_type": "code",
   "execution_count": 15,
   "id": "1e1ace53",
   "metadata": {},
   "outputs": [],
   "source": [
    "df[\"Billing Amount\"] = df[\"Billing Amount\"].astype(float)"
   ]
  },
  {
   "cell_type": "markdown",
   "id": "e1224e67",
   "metadata": {},
   "source": [
    "Connect Python to MySQL"
   ]
  },
  {
   "cell_type": "code",
   "execution_count": 1,
   "id": "885a8b4d",
   "metadata": {},
   "outputs": [
    {
     "name": "stdout",
     "output_type": "stream",
     "text": [
      "Connected to MySQL\n",
      "MySQL Version: 5.6.31\n",
      "Connection closed.\n"
     ]
    }
   ],
   "source": [
    "import mysql.connector\n",
    "import pandas as pd\n",
    "\n",
    "try:\n",
    "    # Connect to MySQL without a password\n",
    "    conn = mysql.connector.connect(\n",
    "        host=\"localhost\",\n",
    "        user=\"root\",\n",
    "        password=\"\",  # Empty string for no password\n",
    "        database=\"healthcare_db\"\n",
    "    )\n",
    "\n",
    "    if conn.is_connected():\n",
    "        print(\"Connected to MySQL\")\n",
    "\n",
    "        # Create a cursor\n",
    "        with conn.cursor() as cursor:\n",
    "            # Check connection and fetch MySQL version\n",
    "            cursor.execute(\"SELECT VERSION()\")\n",
    "            mysql_version = cursor.fetchone()[0]\n",
    "            print(\"MySQL Version:\", mysql_version)\n",
    "\n",
    "except mysql.connector.Error as err:\n",
    "    print(\"Error:\", err)\n",
    "\n",
    "finally:\n",
    "    if 'conn' in locals() and conn.is_connected():\n",
    "        conn.close()\n",
    "        print(\"Connection closed.\")\n",
    "\n"
   ]
  },
  {
   "cell_type": "markdown",
   "id": "5586d5cc",
   "metadata": {},
   "source": [
    "Load Data from CSV to MySQL"
   ]
  },
  {
   "cell_type": "code",
   "execution_count": 3,
   "id": "361b3f93",
   "metadata": {},
   "outputs": [
    {
     "name": "stdout",
     "output_type": "stream",
     "text": [
      "Error loading data: Not all parameters were used in the SQL statement\n",
      "MySQL connection closed.\n"
     ]
    }
   ],
   "source": [
    "import mysql.connector\n",
    "import pandas as pd\n",
    "\n",
    "def load_to_mysql(df, conn, table_name):\n",
    "    try:\n",
    "        with conn.cursor() as cursor:\n",
    "            # SQL query for inserting records\n",
    "            insert_query = f\"\"\"\n",
    "            INSERT INTO {table_name} \n",
    "            (age, gender, blood_type, medical_condition, date_of_admission, hospital, insurance_provider, billing_amount,\n",
    "            room_number, admission_type, discharge_date, medication, test_results)\n",
    "            VALUES (%s, %s, %s, %s, %s, %s, %s, %s, %s, %s, %s, %s, %s)\n",
    "            \"\"\"\n",
    "\n",
    "            # Handle NaN values to avoid insertion issues\n",
    "            df = df.fillna(\"NULL\")  # Replace with a default value (adjust if needed)\n",
    "\n",
    "            # Convert DataFrame rows to list of tuples\n",
    "            data = [tuple(row) for row in df.itertuples(index=False, name=None)]\n",
    "\n",
    "            # Insert records into MySQL\n",
    "            cursor.executemany(insert_query, data)\n",
    "            conn.commit()\n",
    "            print(f\"✅ Successfully loaded {len(df)} records into {table_name}!\")\n",
    "\n",
    "    except mysql.connector.Error as err:\n",
    "        conn.rollback()  # Rollback in case of an error\n",
    "        print(f\"Error loading data: {err}\")\n",
    "\n",
    "    finally:\n",
    "        if conn.is_connected():\n",
    "            conn.close()\n",
    "            print(\"MySQL connection closed.\")\n",
    "\n",
    "# Establish MySQL connection\n",
    "conn = mysql.connector.connect(\n",
    "    host=\"localhost\",\n",
    "    user=\"root\",\n",
    "    password=\"\",  # Empty if no password is set\n",
    "    database=\"healthcare_db\"\n",
    ")\n",
    "\n",
    "# Read CSV and Load into MySQL\n",
    "df = pd.read_csv(\"healthcare_dataset.csv\")\n",
    "load_to_mysql(df, conn, \"healthcare_records\")\n"
   ]
  },
  {
   "cell_type": "code",
   "execution_count": null,
   "id": "97dcc874",
   "metadata": {},
   "outputs": [],
   "source": []
  },
  {
   "cell_type": "code",
   "execution_count": null,
   "id": "aa540cbc",
   "metadata": {},
   "outputs": [],
   "source": []
  }
 ],
 "metadata": {
  "kernelspec": {
   "display_name": "Python 3 (ipykernel)",
   "language": "python",
   "name": "python3"
  },
  "language_info": {
   "codemirror_mode": {
    "name": "ipython",
    "version": 3
   },
   "file_extension": ".py",
   "mimetype": "text/x-python",
   "name": "python",
   "nbconvert_exporter": "python",
   "pygments_lexer": "ipython3",
   "version": "3.11.5"
  }
 },
 "nbformat": 4,
 "nbformat_minor": 5
}
